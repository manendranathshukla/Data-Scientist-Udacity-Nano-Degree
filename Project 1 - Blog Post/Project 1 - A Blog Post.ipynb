{
 "cells": [
  {
   "cell_type": "markdown",
   "metadata": {},
   "source": [
    "# Project 1 - Blog Post\n",
    "\n",
    "### Analyzing Effectiveness of STD Drug Data\n",
    "In this project we were using a dataset which is given as data science competetion on hackerearth platform.There are three questions we are going to answer. Explanation and visualization will be presented in order to answer each question.\n",
    "We are going to use the `train.csv` file.\n",
    "\n",
    "\n",
    "\n",
    "\n",
    "### Questions:\n",
    "- What are the top 10 most effective drug according to patient rating ? \n",
    "- How the use case of drug is distributed among different diseases ?\n",
    "- Which drugs have more no of prescription ?\n"
   ]
  },
  {
   "cell_type": "markdown",
   "metadata": {},
   "source": [
    "## Data Acquisition & Preparation \n"
   ]
  },
  {
   "cell_type": "code",
   "execution_count": 29,
   "metadata": {},
   "outputs": [],
   "source": [
    "#import the libraries \n",
    "import pandas as pd\n",
    "import numpy as np\n",
    "import matplotlib.pyplot as plt\n",
    "import seaborn as sns\n",
    "sns.set(rc={'figure.figsize':(20,7)})"
   ]
  },
  {
   "cell_type": "code",
   "execution_count": 73,
   "metadata": {},
   "outputs": [],
   "source": [
    "#import the dataset \n",
    "train=pd.read_csv(\"train.csv\")\n"
   ]
  },
  {
   "cell_type": "code",
   "execution_count": 4,
   "metadata": {},
   "outputs": [
    {
     "data": {
      "text/html": [
       "<div>\n",
       "<style scoped>\n",
       "    .dataframe tbody tr th:only-of-type {\n",
       "        vertical-align: middle;\n",
       "    }\n",
       "\n",
       "    .dataframe tbody tr th {\n",
       "        vertical-align: top;\n",
       "    }\n",
       "\n",
       "    .dataframe thead th {\n",
       "        text-align: right;\n",
       "    }\n",
       "</style>\n",
       "<table border=\"1\" class=\"dataframe\">\n",
       "  <thead>\n",
       "    <tr style=\"text-align: right;\">\n",
       "      <th></th>\n",
       "      <th>patient_id</th>\n",
       "      <th>name_of_drug</th>\n",
       "      <th>use_case_for_drug</th>\n",
       "      <th>review_by_patient</th>\n",
       "      <th>effectiveness_rating</th>\n",
       "      <th>drug_approved_by_UIC</th>\n",
       "      <th>number_of_times_prescribed</th>\n",
       "      <th>base_score</th>\n",
       "    </tr>\n",
       "  </thead>\n",
       "  <tbody>\n",
       "    <tr>\n",
       "      <th>0</th>\n",
       "      <td>206461</td>\n",
       "      <td>Valsartan</td>\n",
       "      <td>Left Ventricular Dysfunction</td>\n",
       "      <td>\"It has no side effect, I take it in combinati...</td>\n",
       "      <td>9</td>\n",
       "      <td>20-May-12</td>\n",
       "      <td>27</td>\n",
       "      <td>8.022969</td>\n",
       "    </tr>\n",
       "    <tr>\n",
       "      <th>1</th>\n",
       "      <td>95260</td>\n",
       "      <td>Guanfacine</td>\n",
       "      <td>ADHD</td>\n",
       "      <td>\"My son is halfway through his fourth week of ...</td>\n",
       "      <td>8</td>\n",
       "      <td>27-Apr-10</td>\n",
       "      <td>192</td>\n",
       "      <td>7.858458</td>\n",
       "    </tr>\n",
       "    <tr>\n",
       "      <th>2</th>\n",
       "      <td>92703</td>\n",
       "      <td>Lybrel</td>\n",
       "      <td>Birth Control</td>\n",
       "      <td>\"I used to take another oral contraceptive, wh...</td>\n",
       "      <td>5</td>\n",
       "      <td>14-Dec-09</td>\n",
       "      <td>17</td>\n",
       "      <td>6.341969</td>\n",
       "    </tr>\n",
       "    <tr>\n",
       "      <th>3</th>\n",
       "      <td>35696</td>\n",
       "      <td>Buprenorphine / naloxone</td>\n",
       "      <td>Opiate Dependence</td>\n",
       "      <td>\"Suboxone has completely turned my life around...</td>\n",
       "      <td>9</td>\n",
       "      <td>27-Nov-16</td>\n",
       "      <td>37</td>\n",
       "      <td>6.590176</td>\n",
       "    </tr>\n",
       "    <tr>\n",
       "      <th>4</th>\n",
       "      <td>155963</td>\n",
       "      <td>Cialis</td>\n",
       "      <td>Benign Prostatic Hyperplasia</td>\n",
       "      <td>\"2nd day on 5mg started to work with rock hard...</td>\n",
       "      <td>2</td>\n",
       "      <td>28-Nov-15</td>\n",
       "      <td>43</td>\n",
       "      <td>6.144782</td>\n",
       "    </tr>\n",
       "  </tbody>\n",
       "</table>\n",
       "</div>"
      ],
      "text/plain": [
       "   patient_id              name_of_drug             use_case_for_drug  \\\n",
       "0      206461                 Valsartan  Left Ventricular Dysfunction   \n",
       "1       95260                Guanfacine                          ADHD   \n",
       "2       92703                    Lybrel                 Birth Control   \n",
       "3       35696  Buprenorphine / naloxone             Opiate Dependence   \n",
       "4      155963                    Cialis  Benign Prostatic Hyperplasia   \n",
       "\n",
       "                                   review_by_patient  effectiveness_rating  \\\n",
       "0  \"It has no side effect, I take it in combinati...                     9   \n",
       "1  \"My son is halfway through his fourth week of ...                     8   \n",
       "2  \"I used to take another oral contraceptive, wh...                     5   \n",
       "3  \"Suboxone has completely turned my life around...                     9   \n",
       "4  \"2nd day on 5mg started to work with rock hard...                     2   \n",
       "\n",
       "  drug_approved_by_UIC  number_of_times_prescribed  base_score  \n",
       "0            20-May-12                          27    8.022969  \n",
       "1            27-Apr-10                         192    7.858458  \n",
       "2            14-Dec-09                          17    6.341969  \n",
       "3            27-Nov-16                          37    6.590176  \n",
       "4            28-Nov-15                          43    6.144782  "
      ]
     },
     "execution_count": 4,
     "metadata": {},
     "output_type": "execute_result"
    }
   ],
   "source": [
    "#Get the first 5 rows of train data\n",
    "train.head()"
   ]
  },
  {
   "cell_type": "markdown",
   "metadata": {},
   "source": [
    "## Data Cleaning"
   ]
  },
  {
   "cell_type": "code",
   "execution_count": 77,
   "metadata": {},
   "outputs": [
    {
     "data": {
      "text/plain": [
       "patient_id                    0\n",
       "name_of_drug                  0\n",
       "use_case_for_drug             0\n",
       "review_by_patient             0\n",
       "effectiveness_rating          0\n",
       "drug_approved_by_UIC          0\n",
       "number_of_times_prescribed    0\n",
       "base_score                    0\n",
       "dtype: int64"
      ]
     },
     "execution_count": 77,
     "metadata": {},
     "output_type": "execute_result"
    }
   ],
   "source": [
    "#Checking is there any null value present in the train \n",
    "train.isnull().sum()"
   ]
  },
  {
   "cell_type": "code",
   "execution_count": 78,
   "metadata": {},
   "outputs": [
    {
     "data": {
      "text/html": [
       "<div>\n",
       "<style scoped>\n",
       "    .dataframe tbody tr th:only-of-type {\n",
       "        vertical-align: middle;\n",
       "    }\n",
       "\n",
       "    .dataframe tbody tr th {\n",
       "        vertical-align: top;\n",
       "    }\n",
       "\n",
       "    .dataframe thead th {\n",
       "        text-align: right;\n",
       "    }\n",
       "</style>\n",
       "<table border=\"1\" class=\"dataframe\">\n",
       "  <thead>\n",
       "    <tr style=\"text-align: right;\">\n",
       "      <th></th>\n",
       "      <th>patient_id</th>\n",
       "      <th>effectiveness_rating</th>\n",
       "      <th>number_of_times_prescribed</th>\n",
       "      <th>base_score</th>\n",
       "    </tr>\n",
       "  </thead>\n",
       "  <tbody>\n",
       "    <tr>\n",
       "      <th>count</th>\n",
       "      <td>32165.000000</td>\n",
       "      <td>32165.000000</td>\n",
       "      <td>32165.000000</td>\n",
       "      <td>32165.000000</td>\n",
       "    </tr>\n",
       "    <tr>\n",
       "      <th>mean</th>\n",
       "      <td>115487.511052</td>\n",
       "      <td>6.998912</td>\n",
       "      <td>27.893207</td>\n",
       "      <td>6.664261</td>\n",
       "    </tr>\n",
       "    <tr>\n",
       "      <th>std</th>\n",
       "      <td>67146.156602</td>\n",
       "      <td>3.274781</td>\n",
       "      <td>35.819035</td>\n",
       "      <td>1.588699</td>\n",
       "    </tr>\n",
       "    <tr>\n",
       "      <th>min</th>\n",
       "      <td>9.000000</td>\n",
       "      <td>1.000000</td>\n",
       "      <td>0.000000</td>\n",
       "      <td>0.899076</td>\n",
       "    </tr>\n",
       "    <tr>\n",
       "      <th>25%</th>\n",
       "      <td>56922.000000</td>\n",
       "      <td>5.000000</td>\n",
       "      <td>6.000000</td>\n",
       "      <td>6.109307</td>\n",
       "    </tr>\n",
       "    <tr>\n",
       "      <th>50%</th>\n",
       "      <td>115776.000000</td>\n",
       "      <td>8.000000</td>\n",
       "      <td>16.000000</td>\n",
       "      <td>6.788245</td>\n",
       "    </tr>\n",
       "    <tr>\n",
       "      <th>75%</th>\n",
       "      <td>173562.000000</td>\n",
       "      <td>10.000000</td>\n",
       "      <td>36.000000</td>\n",
       "      <td>7.900790</td>\n",
       "    </tr>\n",
       "    <tr>\n",
       "      <th>max</th>\n",
       "      <td>232289.000000</td>\n",
       "      <td>10.000000</td>\n",
       "      <td>771.000000</td>\n",
       "      <td>8.992453</td>\n",
       "    </tr>\n",
       "  </tbody>\n",
       "</table>\n",
       "</div>"
      ],
      "text/plain": [
       "          patient_id  effectiveness_rating  number_of_times_prescribed  \\\n",
       "count   32165.000000          32165.000000                32165.000000   \n",
       "mean   115487.511052              6.998912                   27.893207   \n",
       "std     67146.156602              3.274781                   35.819035   \n",
       "min         9.000000              1.000000                    0.000000   \n",
       "25%     56922.000000              5.000000                    6.000000   \n",
       "50%    115776.000000              8.000000                   16.000000   \n",
       "75%    173562.000000             10.000000                   36.000000   \n",
       "max    232289.000000             10.000000                  771.000000   \n",
       "\n",
       "         base_score  \n",
       "count  32165.000000  \n",
       "mean       6.664261  \n",
       "std        1.588699  \n",
       "min        0.899076  \n",
       "25%        6.109307  \n",
       "50%        6.788245  \n",
       "75%        7.900790  \n",
       "max        8.992453  "
      ]
     },
     "execution_count": 78,
     "metadata": {},
     "output_type": "execute_result"
    }
   ],
   "source": [
    "#Statistical summary of the train set\n",
    "train.describe()"
   ]
  },
  {
   "cell_type": "code",
   "execution_count": 10,
   "metadata": {},
   "outputs": [
    {
     "name": "stdout",
     "output_type": "stream",
     "text": [
      "<class 'pandas.core.frame.DataFrame'>\n",
      "RangeIndex: 32165 entries, 0 to 32164\n",
      "Data columns (total 8 columns):\n",
      "patient_id                    32165 non-null int64\n",
      "name_of_drug                  32165 non-null object\n",
      "use_case_for_drug             32165 non-null object\n",
      "review_by_patient             32165 non-null object\n",
      "effectiveness_rating          32165 non-null int64\n",
      "drug_approved_by_UIC          32165 non-null object\n",
      "number_of_times_prescribed    32165 non-null int64\n",
      "base_score                    32165 non-null float64\n",
      "dtypes: float64(1), int64(3), object(4)\n",
      "memory usage: 2.0+ MB\n"
     ]
    }
   ],
   "source": [
    "#Getting the info about the features \n",
    "train.info()"
   ]
  },
  {
   "cell_type": "markdown",
   "metadata": {},
   "source": [
    "As to answer the above three questions we checked and prepared the data with following steps:\n",
    " - Viewed the first five rows of dataset to know what type of data it is like either fully numrical or fully categorical or mixed.\n",
    " - It is found that dataset we are using is mixed of numerical and categorical values.\n",
    " - Now we checked every column to find the NaN values in the dataset.\n",
    " - Now after finding the sum of nan values in the dataset it found that fully cleaned data set we have.\n",
    " - Calculated the statistical summary of the numerical column.\n",
    " \n",
    "### Data Exploration"
   ]
  },
  {
   "cell_type": "markdown",
   "metadata": {},
   "source": [
    "## 1. Top 10 most effective drug according to patient rating"
   ]
  },
  {
   "cell_type": "code",
   "execution_count": 84,
   "metadata": {},
   "outputs": [],
   "source": [
    "#Finding the top ten drug by grouping with effectiveness rating of the drug\n",
    "top_ten_drug=train.groupby('name_of_drug')[\"effectiveness_rating\"].count().sort_values(ascending=False).head(10)\n"
   ]
  },
  {
   "cell_type": "code",
   "execution_count": 85,
   "metadata": {},
   "outputs": [
    {
     "data": {
      "text/plain": [
       "name_of_drug\n",
       "Levonorgestrel                        724\n",
       "Etonogestrel                          628\n",
       "Ethinyl estradiol / norethindrone     547\n",
       "Ethinyl estradiol / norgestimate      425\n",
       "Nexplanon                             397\n",
       "Ethinyl estradiol / levonorgestrel    394\n",
       "Phentermine                           296\n",
       "Sertraline                            281\n",
       "Escitalopram                          265\n",
       "Mirena                                241\n",
       "Name: effectiveness_rating, dtype: int64"
      ]
     },
     "execution_count": 85,
     "metadata": {},
     "output_type": "execute_result"
    }
   ],
   "source": [
    "#showing the data\n",
    "top_ten_drug"
   ]
  },
  {
   "cell_type": "code",
   "execution_count": 96,
   "metadata": {},
   "outputs": [
    {
     "data": {
      "text/plain": [
       "name_of_drug\n",
       "Levonorgestrel                                            724\n",
       "Etonogestrel                                              628\n",
       "Ethinyl estradiol / norethindrone                         547\n",
       "Ethinyl estradiol / norgestimate                          425\n",
       "Nexplanon                                                 397\n",
       "Ethinyl estradiol / levonorgestrel                        394\n",
       "Phentermine                                               296\n",
       "Sertraline                                                281\n",
       "Escitalopram                                              265\n",
       "Mirena                                                    241\n",
       "Venlafaxine                                               213\n",
       "Depo-Provera                                              209\n",
       "Implanon                                                  207\n",
       "Duloxetine                                                199\n",
       "Bupropion / naltrexone                                    198\n",
       "Medroxyprogesterone                                       195\n",
       "Bupropion                                                 194\n",
       "Metronidazole                                             194\n",
       "Citalopram                                                192\n",
       "Contrave                                                  191\n",
       "Lexapro                                                   189\n",
       "Miconazole                                                184\n",
       "Gabapentin                                                182\n",
       "Tramadol                                                  169\n",
       "Quetiapine                                                167\n",
       "Drospirenone / ethinyl estradiol                          166\n",
       "Cymbalta                                                  159\n",
       "Fluoxetine                                                155\n",
       "Skyla                                                     155\n",
       "Alprazolam                                                154\n",
       "                                                         ... \n",
       "Lo Loestrin Fe                                            147\n",
       "Varenicline                                               147\n",
       "Paroxetine                                                146\n",
       "Zoloft                                                    146\n",
       "Tioconazole                                               145\n",
       "Suprep Bowel Prep Kit                                     130\n",
       "Azithromycin                                              129\n",
       "Doxycycline                                               128\n",
       "Topiramate                                                126\n",
       "Sulfamethoxazole / trimethoprim                           125\n",
       "Trazodone                                                 124\n",
       "NuvaRing                                                  123\n",
       "Desvenlafaxine                                            122\n",
       "Copper                                                    120\n",
       "Plan B                                                    119\n",
       "Diclofenac                                                117\n",
       "Desogestrel / ethinyl estradiol                           117\n",
       "Lamotrigine                                               117\n",
       "Magnesium sulfate / potassium sulfate / sodium sulfate    116\n",
       "Isotretinoin                                              112\n",
       "Pregabalin                                                112\n",
       "Chantix                                                   112\n",
       "Belviq                                                    111\n",
       "Lorcaserin                                                108\n",
       "Vortioxetine                                              107\n",
       "Mirtazapine                                               104\n",
       "Sprintec                                                  102\n",
       "Pristiq                                                   102\n",
       "Celexa                                                    101\n",
       "Propranolol                                                99\n",
       "Name: effectiveness_rating, Length: 64, dtype: int64"
      ]
     },
     "execution_count": 96,
     "metadata": {},
     "output_type": "execute_result"
    }
   ],
   "source": [
    "train.groupby('name_of_drug')[\"effectiveness_rating\"].count().sort_values(ascending=False).head(64)"
   ]
  },
  {
   "cell_type": "code",
   "execution_count": 86,
   "metadata": {},
   "outputs": [],
   "source": [
    "#creating the data for top 10 drug name \n",
    "drug_name=[\"Levonorgestrel\",\"Etonogestrel\",\"Ethinyl estradiol / norethindrone\",\"Ethinyl estradiol / norgestimate\",\"Nexplanon\",\n",
    "            \"Ethinyl estradiol / levonorgestrel\",\"Phentermine\",\"Sertraline\",\"Escitalopram\",\"Mirena\"]\n",
    "#taking the total count of drugs \n",
    "count=dd.values\n",
    "\n"
   ]
  },
  {
   "cell_type": "code",
   "execution_count": 89,
   "metadata": {},
   "outputs": [
    {
     "data": {
      "text/plain": [
       "2220"
      ]
     },
     "execution_count": 89,
     "metadata": {},
     "output_type": "execute_result"
    }
   ],
   "source": [
    "#total no of drug\n",
    "train['name_of_drug'].unique().shape[0]\n"
   ]
  },
  {
   "cell_type": "code",
   "execution_count": 87,
   "metadata": {},
   "outputs": [
    {
     "data": {
      "text/plain": [
       "<matplotlib.axes._subplots.AxesSubplot at 0x7f9eca942350>"
      ]
     },
     "execution_count": 87,
     "metadata": {},
     "output_type": "execute_result"
    },
    {
     "data": {
      "image/png": "[encoded data removed]",
      "text/plain": [
       "<Figure size 1440x504 with 1 Axes>"
      ]
     },
     "metadata": {},
     "output_type": "display_data"
    }
   ],
   "source": [
    "#plotting the newly framed data\n",
    "sns.barplot(x=drug_name, y=count)"
   ]
  },
  {
   "cell_type": "markdown",
   "metadata": {},
   "source": [
    "As the dataset have total no of 2220 unique drugs in which 63 different types of drug have more that 100 repeatation in the drug list.\n",
    "According to the above barchart it is clear that the top 10 drugs are `\"Levonorgestrel\",\"Etonogestrel\",\"Ethinyl estradiol / norethindrone\",\"Ethinyl estradiol / norgestimate\",\"Nexplanon\",\"Ethinyl estradiol /levonorgestrel\",\"Phentermine\",\"Sertraline\",\"Escitalopram\",\"Mirena\"` have been used used much more time and sold too among the 2220 other drugs. \n",
    "\n",
    "So,the most frequently used drug is Levonorgestrel drug. "
   ]
  },
  {
   "cell_type": "markdown",
   "metadata": {},
   "source": [
    "## 2. Distribution of use case of drug among different diseases"
   ]
  },
  {
   "cell_type": "code",
   "execution_count": 47,
   "metadata": {},
   "outputs": [],
   "source": [
    "#finding the most common reason for taking the drug\n",
    "reason_behind_drug_taking = train['use_case_for_drug'].value_counts().head(10)\n",
    "m=pd.DataFrame(reason_behind_drug_taking)\n"
   ]
  },
  {
   "cell_type": "code",
   "execution_count": 48,
   "metadata": {},
   "outputs": [
    {
     "data": {
      "text/html": [
       "<div>\n",
       "<style scoped>\n",
       "    .dataframe tbody tr th:only-of-type {\n",
       "        vertical-align: middle;\n",
       "    }\n",
       "\n",
       "    .dataframe tbody tr th {\n",
       "        vertical-align: top;\n",
       "    }\n",
       "\n",
       "    .dataframe thead th {\n",
       "        text-align: right;\n",
       "    }\n",
       "</style>\n",
       "<table border=\"1\" class=\"dataframe\">\n",
       "  <thead>\n",
       "    <tr style=\"text-align: right;\">\n",
       "      <th></th>\n",
       "      <th>use_case_for_drug</th>\n",
       "    </tr>\n",
       "  </thead>\n",
       "  <tbody>\n",
       "    <tr>\n",
       "      <th>Birth Control</th>\n",
       "      <td>5795</td>\n",
       "    </tr>\n",
       "    <tr>\n",
       "      <th>Depression</th>\n",
       "      <td>1791</td>\n",
       "    </tr>\n",
       "    <tr>\n",
       "      <th>Pain</th>\n",
       "      <td>1273</td>\n",
       "    </tr>\n",
       "    <tr>\n",
       "      <th>Anxiety</th>\n",
       "      <td>1174</td>\n",
       "    </tr>\n",
       "    <tr>\n",
       "      <th>Acne</th>\n",
       "      <td>1101</td>\n",
       "    </tr>\n",
       "    <tr>\n",
       "      <th>Bipolar Disorde</th>\n",
       "      <td>815</td>\n",
       "    </tr>\n",
       "    <tr>\n",
       "      <th>Insomnia</th>\n",
       "      <td>772</td>\n",
       "    </tr>\n",
       "    <tr>\n",
       "      <th>Obesity</th>\n",
       "      <td>727</td>\n",
       "    </tr>\n",
       "    <tr>\n",
       "      <th>Weight Loss</th>\n",
       "      <td>717</td>\n",
       "    </tr>\n",
       "    <tr>\n",
       "      <th>ADHD</th>\n",
       "      <td>627</td>\n",
       "    </tr>\n",
       "  </tbody>\n",
       "</table>\n",
       "</div>"
      ],
      "text/plain": [
       "                 use_case_for_drug\n",
       "Birth Control                 5795\n",
       "Depression                    1791\n",
       "Pain                          1273\n",
       "Anxiety                       1174\n",
       "Acne                          1101\n",
       "Bipolar Disorde                815\n",
       "Insomnia                       772\n",
       "Obesity                        727\n",
       "Weight Loss                    717\n",
       "ADHD                           627"
      ]
     },
     "execution_count": 48,
     "metadata": {},
     "output_type": "execute_result"
    }
   ],
   "source": [
    "#dataframe in between use_case_for_drug and their value_counts\n",
    "m"
   ]
  },
  {
   "cell_type": "code",
   "execution_count": 53,
   "metadata": {},
   "outputs": [
    {
     "data": {
      "text/plain": [
       "<matplotlib.axes._subplots.AxesSubplot at 0x7f9ecd7d9510>"
      ]
     },
     "execution_count": 53,
     "metadata": {},
     "output_type": "execute_result"
    },
    {
     "data": {
      "image/png": "[encoded data removed]",
      "text/plain": [
       "<Figure size 1440x504 with 1 Axes>"
      ]
     },
     "metadata": {},
     "output_type": "display_data"
    }
   ],
   "source": [
    "#visualizing the above dataframe \n",
    "m.plot(kind='bar')\n"
   ]
  },
  {
   "cell_type": "markdown",
   "metadata": {},
   "source": [
    "Every drug have their own usecase and they made for that particular use. As,looking around the dataset there are 2220 no of unique drugs with their \n",
    "use case and we found the top 10 most effective drugs likewise it is found that there are many different types of usecase of drug. \n",
    "Now, the main goal is to get the most frequent usecase of the drug with their distribution. \n",
    "\n",
    "From above chart it is clearly saying that Birth Control is the main reason behind taking most of the drug.From above barchart, it depicts that patients are taking the drug for balancing the population of the country.\n",
    "And second most important fact that most of the patient have taken the drug in cure of depression and to relief the pain."
   ]
  },
  {
   "cell_type": "markdown",
   "metadata": {},
   "source": [
    "## 3. Drugs having more no of prescription"
   ]
  },
  {
   "cell_type": "code",
   "execution_count": 69,
   "metadata": {},
   "outputs": [],
   "source": [
    "# finding the drusg name having more no of prescription\n",
    "prescribed=train.groupby('name_of_drug')['number_of_times_prescribed'].mean().sort_values(ascending=False).head(10)"
   ]
  },
  {
   "cell_type": "code",
   "execution_count": 98,
   "metadata": {},
   "outputs": [
    {
     "data": {
      "text/plain": [
       "name_of_drug\n",
       "Alendronate      220.666667\n",
       "Glucophage XR    184.000000\n",
       "Glucotrol        161.000000\n",
       "Kapvay           158.000000\n",
       "Zyloprim         144.000000\n",
       "Carac            144.000000\n",
       "Casodex          137.000000\n",
       "Prolia           134.375000\n",
       "Gralise          131.000000\n",
       "Femara           126.000000\n",
       "Name: number_of_times_prescribed, dtype: float64"
      ]
     },
     "execution_count": 98,
     "metadata": {},
     "output_type": "execute_result"
    }
   ],
   "source": [
    "prescribed"
   ]
  },
  {
   "cell_type": "code",
   "execution_count": 70,
   "metadata": {},
   "outputs": [
    {
     "data": {
      "text/plain": [
       "<matplotlib.axes._subplots.AxesSubplot at 0x7f9ecd5d4ad0>"
      ]
     },
     "execution_count": 70,
     "metadata": {},
     "output_type": "execute_result"
    },
    {
     "data": {
      "image/png": "[encoded data removed]",
      "text/plain": [
       "<Figure size 1440x504 with 1 Axes>"
      ]
     },
     "metadata": {},
     "output_type": "display_data"
    }
   ],
   "source": [
    "#ploting the prescription drug list \n",
    "prescribed.plot(kind='bar')"
   ]
  },
  {
   "cell_type": "markdown",
   "metadata": {},
   "source": [
    "According to research human always prefer recommendation, in same way drug is also prescribed by doctors. \n",
    "To answer the above question, We have to gather the group by data with `name_of_drug` and `number_of_times_prescribed` by the doctors. \n",
    "Now, after getting the required data and by plotting it shows that around 250(taking as mean) times \"Alendronate\" named drug is frequenty prescribed by drug and in the same distribution about 175 times \"Glucophage XR\" this drug is prescribed. As a result,taking it to a business approach all pharmacy can put as stock of these top ten drugs on their stock.which are most frequent selling drugs prescribed by doctors. "
   ]
  },
  {
   "cell_type": "code",
   "execution_count": 76,
   "metadata": {},
   "outputs": [
    {
     "data": {
      "text/plain": [
       "<matplotlib.axes._subplots.AxesSubplot at 0x7f9ecab8e3d0>"
      ]
     },
     "execution_count": 76,
     "metadata": {},
     "output_type": "execute_result"
    },
    {
     "data": {
      "image/png": "[encoded data removed]",
      "text/plain": [
       "<Figure size 1440x504 with 1 Axes>"
      ]
     },
     "metadata": {},
     "output_type": "display_data"
    }
   ],
   "source": [
    "#plotting the distribution plot of base score of the drug\n",
    "sns.distplot(train['base_score'])"
   ]
  },
  {
   "cell_type": "code",
   "execution_count": 72,
   "metadata": {},
   "outputs": [
    {
     "data": {
      "text/plain": [
       "<matplotlib.axes._subplots.AxesSubplot at 0x7f9ecd492c90>"
      ]
     },
     "execution_count": 72,
     "metadata": {},
     "output_type": "execute_result"
    },
    {
     "data": {
      "image/png": "[encoded data removed]",
      "text/plain": [
       "<Figure size 1440x504 with 2 Axes>"
      ]
     },
     "metadata": {},
     "output_type": "display_data"
    }
   ],
   "source": [
    "#to know how the dataset is correlated with other columns\n",
    "sns.heatmap(train.corr())"
   ]
  },
  {
   "cell_type": "markdown",
   "metadata": {},
   "source": [
    "## Conclusion "
   ]
  },
  {
   "cell_type": "markdown",
   "metadata": {},
   "source": [
    "In this notebook we did the analysis about drugs effectiveness, and these are the summary of what we have done.\n",
    "\n",
    "We measure the job satisfaction level for each country and found that United States has the highest job satisfaction level in the world, and 5 of top 10 countries with the highest job satisfaction level are located in Europe.\n",
    "We then looked at their undergraduate major and found that developers whose undergraduate major is not IT-related have slightly better job satisfaction.\n",
    "Finally, we found that developers who contribute more to the open source have the higher salary."
   ]
  }
 ],
 "metadata": {
  "kernelspec": {
   "display_name": "Python 2.7.12 64-bit",
   "language": "python",
   "name": "python271264bit13374d5c5c2043569b316e9e93189012"
  },
  "language_info": {
   "codemirror_mode": {
    "name": "ipython",
    "version": 2
   },
   "file_extension": ".py",
   "mimetype": "text/x-python",
   "name": "python",
   "nbconvert_exporter": "python",
   "pygments_lexer": "ipython2",
   "version": "2.7.12"
  }
 },
 "nbformat": 4,
 "nbformat_minor": 2
}
